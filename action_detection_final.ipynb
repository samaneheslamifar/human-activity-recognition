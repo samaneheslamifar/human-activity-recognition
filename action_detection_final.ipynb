{
  "nbformat": 4,
  "nbformat_minor": 0,
  "metadata": {
    "colab": {
      "provenance": []
    },
    "kernelspec": {
      "display_name": "Python 3",
      "name": "python3"
    },
    "accelerator": "GPU"
  },
  "cells": [
    {
      "cell_type": "code",
      "metadata": {
        "id": "10JxWzZ3pDZN"
      },
      "source": [
        "#import libs\n",
        "import cv2\n",
        "import os\n",
        "import random\n",
        "import matplotlib.pylab as plt\n",
        "from glob import glob\n",
        "import pandas as pd\n",
        "import numpy as np\n",
        "import pickle\n",
        "from keras.callbacks import ModelCheckpoint\n",
        "\n",
        "import tensorflow as tf\n",
        "import keras\n",
        "from keras.models import *\n",
        "from keras.layers import *\n",
        "from keras.layers.convolutional import Convolution2D, MaxPooling2D, ZeroPadding2D\n",
        "from keras.preprocessing.image import *\n",
        "from keras.callbacks import EarlyStopping\n",
        "from keras import regularizers,optimizers\n",
        "from keras.callbacks import LearningRateScheduler\n",
        "from keras import *\n",
        "from keras.applications.inception_v3 import InceptionV3\n",
        "import seaborn as sns\n",
        "import sklearn\n",
        "from sklearn.metrics import *"
      ],
      "execution_count": null,
      "outputs": []
    },
    {
      "cell_type": "code",
      "metadata": {
        "id": "dBBJtW6i8WEB"
      },
      "source": [
        "from google.colab import drive\n",
        "drive.mount('/content/drive')"
      ],
      "execution_count": null,
      "outputs": []
    },
    {
      "cell_type": "code",
      "metadata": {
        "id": "VTtpkLWR8IfM"
      },
      "source": [
        "# TRAIN_RUN\n",
        "\n",
        "# ../input/walk_or_run_train/train/run\n",
        "train_run = glob(os.path.join('/content/drive/MyDrive/action_recognition/walk_run_train/train_run', \"*.png\"))\n",
        "\n",
        "# TRAIN_WALK\n",
        "\n",
        "train_walk = glob(os.path.join('/content/drive/MyDrive/action_recognition/walk_run_train/train_walk', \"*.png\"))\n",
        "\n",
        "# ADD TRAIN_WALK AND TRAIN_RUN INTO A DATAFRAME\n",
        "\n",
        "train = pd.DataFrame()\n",
        "train['file'] = train_run + train_walk\n",
        "train.head()"
      ],
      "execution_count": null,
      "outputs": []
    },
    {
      "cell_type": "code",
      "metadata": {
        "id": "tRgdKjcC8PEm"
      },
      "source": [
        "# TEST_RUN\n",
        "\n",
        "# ../input/walk_or_run_train/train/run\n",
        "test_run = glob(os.path.join('/content/drive/MyDrive/action_recognition/walk_run_test/run_test', \"*.png\"))\n",
        "\n",
        "# TRAIN_WALK\n",
        "\n",
        "test_walk = glob(os.path.join('/content/drive/MyDrive/action_recognition/walk_run_test/walk_test', \"*.png\"))\n",
        "\n",
        "# ADD TRAIN_WALK AND TRAIN_RUN INTO A DATAFRAME\n",
        "\n",
        "test = pd.DataFrame()\n",
        "test['file'] = test_run + test_walk\n",
        "test.head()"
      ],
      "execution_count": null,
      "outputs": []
    },
    {
      "cell_type": "code",
      "metadata": {
        "id": "fcraPToR9FEc"
      },
      "source": [
        "#TRAIN LABELS\n",
        "\n",
        "train['label'] = [1 if i in train_run else 0 for i in train['file']]\n",
        "train.head()"
      ],
      "execution_count": null,
      "outputs": []
    },
    {
      "cell_type": "code",
      "metadata": {
        "id": "bIaEbVSF9UIs"
      },
      "source": [
        "#TEST LABELS\n",
        "\n",
        "test['label'] = [1 if i in test_run else 0 for i in test['file']]\n",
        "test.head()"
      ],
      "execution_count": null,
      "outputs": []
    },
    {
      "cell_type": "code",
      "metadata": {
        "id": "-HSz3Qjw4yVb"
      },
      "source": [
        "# TRAIN RUN AND WALK IMAGES\n",
        "plt.figure(figsize=(16,16))\n",
        "plt.imshow(cv2.imread(train_run[1]))\n"
      ],
      "execution_count": null,
      "outputs": []
    },
    {
      "cell_type": "code",
      "metadata": {
        "id": "XyVc7DRZvK1Y"
      },
      "source": [
        "def dataug(files, labels, batch_size=10,randomized=True, random_seed=1):\n",
        "    randomizer = np.random.RandomState(random_seed)\n",
        "    img_batch = []\n",
        "    label_batch = []\n",
        "    while True:\n",
        "        ind = np.arange(len(files))\n",
        "        if randomized:\n",
        "            randomizer.shuffle(ind)\n",
        "        for index in ind:\n",
        "            image = cv2.imread(files[index])[:,:,0:3]/255\n",
        "            label = labels[index]\n",
        "            img_batch.append(image)\n",
        "            label_batch.append(label)\n",
        "            if len(img_batch) == batch_size:\n",
        "                yield np.array(img_batch), np.array(label_batch)\n",
        "                img_batch = []\n",
        "                label_batch = []\n",
        "        \n",
        "        if len(img_batch) > 0:\n",
        "                yield np.array(img_batch), np.array(label_batch)\n",
        "                img_batch = []\n",
        "                label_batch = []"
      ],
      "execution_count": null,
      "outputs": []
    },
    {
      "cell_type": "code",
      "metadata": {
        "id": "oUkbZAGqWEYP"
      },
      "source": [
        "transfered=InceptionV3(include_top=False,weights='imagenet',input_tensor=None,input_shape=(None,None,3),pooling='avg',classes=1000)\n",
        "model=Sequential()\n",
        "model.add((InputLayer(None,None,3)))\n",
        "model.add(transfered)\n",
        "model.add(Dropout(0.5))\n",
        "model.add(Dense(1,activation='sigmoid'))"
      ],
      "execution_count": null,
      "outputs": []
    },
    {
      "cell_type": "code",
      "metadata": {
        "id": "Eks-ngiHbcng"
      },
      "source": [
        "transfered.trainable=False\n",
        "model.compile(optimizer='adam',loss='binary_crossentropy',metrics=['acc'])\n",
        "batch_size=500\n",
        "epochs=50"
      ],
      "execution_count": null,
      "outputs": []
    },
    {
      "cell_type": "code",
      "metadata": {
        "id": "YUoU_WnEnCDw"
      },
      "source": [
        "model.fit(dataug(train['file'],train['label'],batch_size=batch_size,randomized=True,random_seed=1),steps_per_epoch=int(np.ceil(len(train)/batch_size)), epochs=epochs,\n",
        "          validation_data=dataug(test['file'],test['label'],batch_size=batch_size,randomized=True),validation_steps=int(np.ceil(len(test)/batch_size)),\n",
        "          callbacks=[ModelCheckpoint(filepath='./weights.hdf5',monitor='val_loss',verbose=0,save_best_only=True)],\n",
        "          verbose=2)"
      ],
      "execution_count": null,
      "outputs": []
    },
    {
      "cell_type": "code",
      "metadata": {
        "id": "NZPgzi2snSVc"
      },
      "source": [
        "transfered.trainable=True\n",
        "model.compile(optimizer='adam',loss='binary_crossentropy',metrics=['acc'])\n",
        "batch_size=500\n",
        "epochs=5"
      ],
      "execution_count": null,
      "outputs": []
    },
    {
      "cell_type": "code",
      "metadata": {
        "id": "SYiddj6UnatW"
      },
      "source": [
        "model.fit(dataug(train['file'],train['label'],batch_size=batch_size,randomized=True,random_seed=1),steps_per_epoch=int(np.ceil(len(train)/batch_size)), epochs=epochs,\n",
        "          validation_data=dataug(test['file'],test['label'],batch_size=batch_size,randomized=True),validation_steps=int(np.ceil(len(test)/batch_size)),\n",
        "          callbacks=[ModelCheckpoint(filepath='./weights.hdf5',monitor='val_loss',verbose=0,save_best_only=True)],\n",
        "          verbose=2)\n",
        "model.load_weights('weights.hdf5')"
      ],
      "execution_count": null,
      "outputs": []
    },
    {
      "cell_type": "code",
      "metadata": {
        "id": "Q0Lt0uEms0P4"
      },
      "source": [
        "model.save('model_final.h5')"
      ],
      "execution_count": null,
      "outputs": []
    }
  ]
}